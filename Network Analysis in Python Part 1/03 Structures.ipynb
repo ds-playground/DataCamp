{
 "cells": [
  {
   "cell_type": "markdown",
   "metadata": {},
   "source": [
    "**Structures**\n",
    "\n",
    "Here, you'll learn about ways of identifying nodes that are important in a network. In doing so, you'll be introduced to more advanced concepts in network analysis as well as learn the basics of path-finding algorithms. The chapter concludes with a deep dive into the Twitter network dataset which will reinforce the concepts you've learned, such as degree centrality and betweenness centrality."
   ]
  },
  {
   "cell_type": "code",
   "execution_count": 1,
   "metadata": {
    "collapsed": true
   },
   "outputs": [],
   "source": [
    "import networkx as nx\n",
    "import pickle\n",
    "from datetime import date"
   ]
  },
  {
   "cell_type": "code",
   "execution_count": 2,
   "metadata": {
    "collapsed": true
   },
   "outputs": [],
   "source": [
    "with open('./ego-twitter.p', 'rb') as fileobj:\n",
    "    T = pickle.load(fileobj)\n",
    "\n",
    "# For later use\n",
    "T_orig = T.copy()\n",
    "n_T = len(T)"
   ]
  },
  {
   "cell_type": "markdown",
   "metadata": {},
   "source": [
    "**Identifying triangle relationships**\n",
    "\n",
    "Now that you've learned about cliques, it's time to try leveraging what you know to find structures in a network. Triangles are what you'll go for first. We may be interested in triangles because they're the simplest complex clique. Let's write a few functions; these exercises will bring you through the fundamental logic behind network algorithms.\n",
    "\n",
    "In the Twitter network, each node has an 'occupation' label associated with it, in which the Twitter user's work occupation is divided into celebrity, politician and scientist. One potential application of triangle-finding algorithms is to find out whether users that have similar occupations are more likely to be in a clique with one another."
   ]
  },
  {
   "cell_type": "code",
   "execution_count": 3,
   "metadata": {
    "collapsed": true
   },
   "outputs": [],
   "source": [
    "# Sub-sample the graph\n",
    "T = T_orig.copy()\n",
    "T.remove_nodes_from(list(range(48,n_T)))"
   ]
  },
  {
   "cell_type": "code",
   "execution_count": 4,
   "metadata": {
    "collapsed": true
   },
   "outputs": [],
   "source": [
    "# Convert to undirected graph\n",
    "T = T.to_undirected()"
   ]
  },
  {
   "cell_type": "code",
   "execution_count": 5,
   "metadata": {
    "collapsed": true
   },
   "outputs": [],
   "source": [
    "from itertools import combinations\n",
    "\n",
    "# Define is_in_triangle() \n",
    "def is_in_triangle(G, n):\n",
    "    \"\"\"\n",
    "    Checks whether a node `n` in graph `G` is in a triangle relationship or not. \n",
    "    \n",
    "    Returns a boolean.\n",
    "    \"\"\"\n",
    "    in_triangle = False\n",
    "    \n",
    "    # Iterate over all possible triangle relationship combinations\n",
    "    for n1, n2 in combinations(G.neighbors(n), 2):\n",
    "    \n",
    "        # Check if an edge exists between n1 and n2\n",
    "        if G.has_edge(n1, n2):\n",
    "            in_triangle = True\n",
    "            break\n",
    "    return in_triangle"
   ]
  },
  {
   "cell_type": "code",
   "execution_count": 6,
   "metadata": {},
   "outputs": [
    {
     "data": {
      "text/plain": [
       "True"
      ]
     },
     "execution_count": 6,
     "metadata": {},
     "output_type": "execute_result"
    }
   ],
   "source": [
    "is_in_triangle(T, 1)"
   ]
  },
  {
   "cell_type": "code",
   "execution_count": 7,
   "metadata": {},
   "outputs": [
    {
     "data": {
      "text/plain": [
       "False"
      ]
     },
     "execution_count": 7,
     "metadata": {},
     "output_type": "execute_result"
    }
   ],
   "source": [
    "is_in_triangle(T, 3)"
   ]
  },
  {
   "cell_type": "markdown",
   "metadata": {},
   "source": [
    "**Finding nodes involved in triangles**\n",
    "\n",
    "NetworkX provides an API for counting the number of triangles that every node is involved in: nx.triangles(G). It returns a dictionary of nodes as the keys and number of triangles as the values. Your job in this exercise is to modify the function defined earlier to extract all of the nodes involved in a triangle relationship with a given node."
   ]
  },
  {
   "cell_type": "code",
   "execution_count": 8,
   "metadata": {
    "collapsed": true
   },
   "outputs": [],
   "source": [
    "# Sub-sample the graph\n",
    "T = T_orig.copy()\n",
    "T.remove_nodes_from(list(range(48,n_T)))"
   ]
  },
  {
   "cell_type": "code",
   "execution_count": 9,
   "metadata": {
    "collapsed": true
   },
   "outputs": [],
   "source": [
    "# Convert to undirected graph\n",
    "T = T.to_undirected()"
   ]
  },
  {
   "cell_type": "code",
   "execution_count": 10,
   "metadata": {
    "collapsed": true
   },
   "outputs": [],
   "source": [
    "# from itertools import combinations\n",
    "\n",
    "# Write a function that identifies all nodes in a triangle relationship with a given node.\n",
    "def nodes_in_triangle(G, n):\n",
    "    \"\"\"\n",
    "    Returns the nodes in a graph `G` that are involved in a triangle relationship with the node `n`.\n",
    "    \"\"\"\n",
    "    triangle_nodes = set([n])\n",
    "    \n",
    "    # Iterate over all possible triangle relationship combinations\n",
    "    for n1, n2 in combinations(G.neighbors(n), 2):\n",
    "    \n",
    "        # Check if n1 and n2 have an edge between them\n",
    "        if G.has_edge(n1, n2):\n",
    "        \n",
    "            # Add n1 to triangle_nodes\n",
    "            triangle_nodes.add(n1)\n",
    "            \n",
    "            # Add n2 to triangle_nodes\n",
    "            triangle_nodes.add(n2)\n",
    "            \n",
    "    return triangle_nodes\n",
    "    \n",
    "# Write the assertion statement\n",
    "assert len(nodes_in_triangle(T, 1)) == 33"
   ]
  },
  {
   "cell_type": "code",
   "execution_count": 11,
   "metadata": {},
   "outputs": [
    {
     "data": {
      "text/plain": [
       "33"
      ]
     },
     "execution_count": 11,
     "metadata": {},
     "output_type": "execute_result"
    }
   ],
   "source": [
    "len(nodes_in_triangle(T, 1))"
   ]
  },
  {
   "cell_type": "markdown",
   "metadata": {},
   "source": [
    "**Finding open triangles**\n",
    "\n",
    "Let us now move on to finding open triangles! Recall that they form the basis of friend recommendation systems; if \"A\" knows \"B\" and \"A\" knows \"C\", then it's probable that \"B\" also knows \"C\"."
   ]
  },
  {
   "cell_type": "code",
   "execution_count": 12,
   "metadata": {},
   "outputs": [
    {
     "name": "stdout",
     "output_type": "stream",
     "text": [
      "20\n"
     ]
    }
   ],
   "source": [
    "from itertools import combinations\n",
    "\n",
    "# Define node_in_open_triangle()\n",
    "def node_in_open_triangle(G, n):\n",
    "    \"\"\"\n",
    "    Checks whether pairs of neighbors of node `n` in graph `G` are in an 'open triangle' relationship with node `n`.\n",
    "    \"\"\"\n",
    "    in_open_triangle = False\n",
    "    \n",
    "    # Iterate over all possible triangle relationship combinations\n",
    "    for n1, n2 in combinations(G.neighbors(n), 2):\n",
    "    \n",
    "        # Check if n1 and n2 do NOT have an edge between them\n",
    "        if not G.has_edge(n1, n2):\n",
    "        \n",
    "            in_open_triangle = True\n",
    "            \n",
    "            break\n",
    "            \n",
    "    return in_open_triangle\n",
    "\n",
    "# Compute the number of open triangles in T\n",
    "num_open_triangles = 0\n",
    "\n",
    "# Iterate over all the nodes in T\n",
    "for n in T.nodes():\n",
    "\n",
    "    # Check if the current node is in an open triangle\n",
    "    if node_in_open_triangle(T, n):\n",
    "    \n",
    "        # Increment num_open_triangles\n",
    "        num_open_triangles += 1\n",
    "        \n",
    "print(num_open_triangles)"
   ]
  },
  {
   "cell_type": "markdown",
   "metadata": {
    "collapsed": true
   },
   "source": [
    "**Finding all maximal cliques of size \"n\"**\n",
    "\n",
    "Now that you've explored triangles (and open triangles), let's move on to the concept of maximal cliques. Maximal cliques are cliques that cannot be extended by adding an adjacent edge, and are a useful property of the graph when finding communities. NetworkX provides a function that allows you to identify the nodes involved in each maximal clique in a graph: nx.find_cliques(G). Play around with the function by using it on T in the IPython Shell, and then try answering the exercise."
   ]
  },
  {
   "cell_type": "code",
   "execution_count": 13,
   "metadata": {
    "collapsed": true
   },
   "outputs": [],
   "source": [
    "# Define maximal_cliques()\n",
    "def maximal_cliques(G, size):\n",
    "    \"\"\"\n",
    "    Finds all maximal cliques in graph `G` that are of size `size`.\n",
    "    \"\"\"\n",
    "    mcs = []\n",
    "    for clique in nx.find_cliques(G):\n",
    "        if len(clique) == size:\n",
    "            mcs.append(clique)\n",
    "    return mcs\n",
    "\n",
    "# Check that there are 33 maximal cliques of size 3 in the graph T\n",
    "assert len(maximal_cliques(T, 3)) == 28"
   ]
  },
  {
   "cell_type": "code",
   "execution_count": 14,
   "metadata": {},
   "outputs": [
    {
     "data": {
      "text/plain": [
       "28"
      ]
     },
     "execution_count": 14,
     "metadata": {},
     "output_type": "execute_result"
    }
   ],
   "source": [
    "len(maximal_cliques(T, 3))"
   ]
  },
  {
   "cell_type": "markdown",
   "metadata": {},
   "source": [
    "**Subgraphs I**\n",
    "\n",
    "There may be times when you just want to analyze a subset of nodes in a network. To do so, you can copy them out into another graph object using G.subgraph(nodes), which returns a new graph object (of the same type as the original graph) that is comprised of the iterable of nodes that was passed in.\n",
    "\n",
    "matplotlib.pyplot has been imported for you as plt."
   ]
  },
  {
   "cell_type": "code",
   "execution_count": 15,
   "metadata": {
    "collapsed": true
   },
   "outputs": [],
   "source": [
    "# Sub-sample the graph\n",
    "T = T_orig.copy()\n",
    "T.remove_nodes_from(list(range(48,n_T)))"
   ]
  },
  {
   "cell_type": "code",
   "execution_count": 16,
   "metadata": {
    "collapsed": true
   },
   "outputs": [],
   "source": [
    "# Convert to undirected graph\n",
    "T = T.to_undirected()"
   ]
  },
  {
   "cell_type": "code",
   "execution_count": 17,
   "metadata": {
    "collapsed": true
   },
   "outputs": [],
   "source": [
    "import matplotlib.pyplot as plt"
   ]
  },
  {
   "cell_type": "code",
   "execution_count": 18,
   "metadata": {},
   "outputs": [
    {
     "name": "stderr",
     "output_type": "stream",
     "text": [
      "C:\\Users\\44076529\\AppData\\Local\\Continuum\\Anaconda3\\envs\\py36-networkx11\\lib\\site-packages\\networkx\\drawing\\nx_pylab.py:126: MatplotlibDeprecationWarning: pyplot.hold is deprecated.\n",
      "    Future behavior will be consistent with the long-time default:\n",
      "    plot commands add elements without first clearing the\n",
      "    Axes and/or Figure.\n",
      "  b = plt.ishold()\n",
      "C:\\Users\\44076529\\AppData\\Local\\Continuum\\Anaconda3\\envs\\py36-networkx11\\lib\\site-packages\\networkx\\drawing\\nx_pylab.py:138: MatplotlibDeprecationWarning: pyplot.hold is deprecated.\n",
      "    Future behavior will be consistent with the long-time default:\n",
      "    plot commands add elements without first clearing the\n",
      "    Axes and/or Figure.\n",
      "  plt.hold(b)\n",
      "C:\\Users\\44076529\\AppData\\Local\\Continuum\\Anaconda3\\envs\\py36-networkx11\\lib\\site-packages\\matplotlib\\__init__.py:917: UserWarning: axes.hold is deprecated. Please remove it from your matplotlibrc and/or style files.\n",
      "  warnings.warn(self.msg_depr_set % key)\n",
      "C:\\Users\\44076529\\AppData\\Local\\Continuum\\Anaconda3\\envs\\py36-networkx11\\lib\\site-packages\\matplotlib\\rcsetup.py:152: UserWarning: axes.hold is deprecated, will be removed in 3.0\n",
      "  warnings.warn(\"axes.hold is deprecated, will be removed in 3.0\")\n"
     ]
    },
    {
     "data": {
      "image/png": "[encoded data removed]",
      "text/plain": [
       "<matplotlib.figure.Figure at 0xa45c6d8>"
      ]
     },
     "metadata": {},
     "output_type": "display_data"
    }
   ],
   "source": [
    "nodes_of_interest = [29, 38, 42]\n",
    "\n",
    "# Define get_nodes_and_nbrs()\n",
    "def get_nodes_and_nbrs(G, nodes_of_interest):\n",
    "    \"\"\"\n",
    "    Returns a subgraph of the graph `G` with only the `nodes_of_interest` and their neighbors.\n",
    "    \"\"\"\n",
    "    nodes_to_draw = []\n",
    "    \n",
    "    # Iterate over the nodes of interest\n",
    "    for n in nodes_of_interest:\n",
    "    \n",
    "        # Append the nodes of interest to nodes_to_draw\n",
    "        nodes_to_draw.append(n)\n",
    "        \n",
    "        # Iterate over all the neighbors of node n\n",
    "        for nbr in G.neighbors(n):\n",
    "        \n",
    "            # Append the neighbors of n to nodes_to_draw\n",
    "            nodes_to_draw.append(nbr)\n",
    "            \n",
    "    return G.subgraph(nodes_to_draw)\n",
    "\n",
    "# Extract the subgraph with the nodes of interest: T_draw\n",
    "T_draw = get_nodes_and_nbrs(T, nodes_of_interest)\n",
    "\n",
    "# Draw the subgraph to the screen\n",
    "nx.draw(T_draw)\n",
    "plt.show()"
   ]
  },
  {
   "cell_type": "markdown",
   "metadata": {},
   "source": [
    "**Subgraphs II**\n",
    "\n",
    "In the previous exercise, we gave you a list of nodes whose neighbors we asked you to extract. \n",
    "\n",
    "Let's try one more exercise in which you extract nodes that have a particular metadata property and their neighbors. This should hark back to what you've learned about using list comprehensions to find nodes. The exercise will also build your capacity to compose functions that you've already written before."
   ]
  },
  {
   "cell_type": "code",
   "execution_count": 19,
   "metadata": {},
   "outputs": [
    {
     "name": "stderr",
     "output_type": "stream",
     "text": [
      "C:\\Users\\44076529\\AppData\\Local\\Continuum\\Anaconda3\\envs\\py36-networkx11\\lib\\site-packages\\networkx\\drawing\\nx_pylab.py:126: MatplotlibDeprecationWarning: pyplot.hold is deprecated.\n",
      "    Future behavior will be consistent with the long-time default:\n",
      "    plot commands add elements without first clearing the\n",
      "    Axes and/or Figure.\n",
      "  b = plt.ishold()\n",
      "C:\\Users\\44076529\\AppData\\Local\\Continuum\\Anaconda3\\envs\\py36-networkx11\\lib\\site-packages\\networkx\\drawing\\nx_pylab.py:138: MatplotlibDeprecationWarning: pyplot.hold is deprecated.\n",
      "    Future behavior will be consistent with the long-time default:\n",
      "    plot commands add elements without first clearing the\n",
      "    Axes and/or Figure.\n",
      "  plt.hold(b)\n",
      "C:\\Users\\44076529\\AppData\\Local\\Continuum\\Anaconda3\\envs\\py36-networkx11\\lib\\site-packages\\matplotlib\\__init__.py:917: UserWarning: axes.hold is deprecated. Please remove it from your matplotlibrc and/or style files.\n",
      "  warnings.warn(self.msg_depr_set % key)\n",
      "C:\\Users\\44076529\\AppData\\Local\\Continuum\\Anaconda3\\envs\\py36-networkx11\\lib\\site-packages\\matplotlib\\rcsetup.py:152: UserWarning: axes.hold is deprecated, will be removed in 3.0\n",
      "  warnings.warn(\"axes.hold is deprecated, will be removed in 3.0\")\n"
     ]
    },
    {
     "data": {
      "image/png": "[encoded data removed]",
      "text/plain": [
       "<matplotlib.figure.Figure at 0xa45c198>"
      ]
     },
     "metadata": {},
     "output_type": "display_data"
    }
   ],
   "source": [
    "# Extract the nodes of interest: nodes\n",
    "nodes = [n for n, d in T.nodes(data=True) if d['occupation'] == 'celebrity']\n",
    "\n",
    "# Create the set of nodes: nodeset\n",
    "nodeset = set(nodes)\n",
    "\n",
    "# Iterate over nodes\n",
    "for n in nodes:\n",
    "\n",
    "    # Compute the neighbors of n: nbrs\n",
    "    nbrs = T.neighbors(n)\n",
    "    \n",
    "    # Compute the union of nodeset and nbrs: nodeset\n",
    "    nodeset = nodeset.union(nbrs)\n",
    "\n",
    "# Compute the subgraph using nodeset: T_sub\n",
    "T_sub = T.subgraph(nodeset)\n",
    "\n",
    "# Draw T_sub to the screen\n",
    "nx.draw(T_sub)\n",
    "plt.show()"
   ]
  },
  {
   "cell_type": "code",
   "execution_count": null,
   "metadata": {
    "collapsed": true
   },
   "outputs": [],
   "source": []
  }
 ],
 "metadata": {
  "kernelspec": {
   "display_name": "Python 3",
   "language": "python",
   "name": "python3"
  },
  "language_info": {
   "codemirror_mode": {
    "name": "ipython",
    "version": 3
   },
   "file_extension": ".py",
   "mimetype": "text/x-python",
   "name": "python",
   "nbconvert_exporter": "python",
   "pygments_lexer": "ipython3",
   "version": "3.6.2"
  }
 },
 "nbformat": 4,
 "nbformat_minor": 2
}
