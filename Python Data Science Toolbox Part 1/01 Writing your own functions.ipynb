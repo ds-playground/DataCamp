{
 "cells": [
  {
   "cell_type": "markdown",
   "metadata": {},
   "source": [
    "**Writing your own functions**\n",
    "\n",
    "Here you will learn how to write your very own functions. In this Chapter, you'll learn how to write simple functions, as well as functions that accept multiple arguments and return multiple values. You'll also have the opportunity to apply these newfound skills to questions that commonly arise in Data Science contexts."
   ]
  },
  {
   "cell_type": "markdown",
   "metadata": {},
   "source": [
    "**Strings in Python**\n",
    "\n",
    "In the video, you learned of another standard Python datatype, **strings**. Recall that these represent textual data. To assign the string `'DataCamp'` to a variable `company`, you execute:\n",
    "```\n",
    "company = 'DataCamp'\n",
    "```\n",
    "You've also learned to use the operations `+` and `*` with strings. Unlike with numeric types such as ints and floats, the `+` operator concatenates strings together, while the `*` concatenates multiple copies of a string together. In this exercise, you will use the `+` and `*` operations on strings to answer the question below. Execute the following code in the shell:\n",
    "```\n",
    "object1 = \"data\" + \"analysis\" + \"visualization\"\n",
    "object2 = 1 * 3\n",
    "object3 = \"1\" * 3\n",
    "```\n",
    "What are the values in `object1`, `object2`, and `object3`, respectively?"
   ]
  },
  {
   "cell_type": "code",
   "execution_count": null,
   "metadata": {
    "collapsed": true
   },
   "outputs": [],
   "source": []
  }
 ],
 "metadata": {
  "kernelspec": {
   "display_name": "Python 3",
   "language": "python",
   "name": "python3"
  },
  "language_info": {
   "codemirror_mode": {
    "name": "ipython",
    "version": 3
   },
   "file_extension": ".py",
   "mimetype": "text/x-python",
   "name": "python",
   "nbconvert_exporter": "python",
   "pygments_lexer": "ipython3",
   "version": "3.6.1"
  }
 },
 "nbformat": 4,
 "nbformat_minor": 2
}
