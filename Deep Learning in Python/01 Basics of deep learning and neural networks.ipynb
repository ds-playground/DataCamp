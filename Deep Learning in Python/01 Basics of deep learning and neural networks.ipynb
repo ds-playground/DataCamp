{
 "cells": [
  {
   "cell_type": "markdown",
   "metadata": {},
   "source": [
    "**Basics of deep learning and neural networks**\n",
    "\n",
    "In this chapter, you'll become familiar with the fundamental concepts and terminology used in deep learning, and understand why deep learning techniques are so powerful today. You'll build simple neural networks yourself and generate predictions with them."
   ]
  },
  {
   "cell_type": "markdown",
   "metadata": {},
   "source": [
    "**Coding the forward propagation algorithm**\n",
    "\n",
    "In this exercise, you'll write code to do forward propagation (prediction) for your first neural network:\n",
    "\n",
    "![Ch1Ex4](./img/ch1ex4.png \"Ch1Ex4\")\n",
    "\n",
    "Each data point is a customer. The first input is how many accounts they have, and the second input is how many children they have. The model will predict how many transactions the user makes in the next year. You will use this data throughout the first 2 chapters of this course.\n",
    "\n",
    "The input data has been pre-loaded as `input_data`, and the weights are available in a dictionary called `weights`. The array of weights for the first node in the hidden layer are in `weights['node_0']`, and the array of weights for the second node in the hidden layer are in `weights['node_1']`.\n",
    "\n",
    "The weights feeding into the output node are available in `weights['output']`.\n",
    "\n",
    "NumPy will be pre-imported for you as `np` in all exercises."
   ]
  },
  {
   "cell_type": "markdown",
   "metadata": {},
   "source": [
    "{'In': ['', 'vars', 'vars()'],\n",
    " 'Out': {1: <function vars>},\n",
    " '_': <function vars>,\n",
    " '_1': <function vars>,\n",
    " '__': '',\n",
    " '___': '',\n",
    " '__builtin__': <module 'builtins' (built-in)>,\n",
    " '__builtins__': <module 'builtins' (built-in)>,\n",
    " '__name__': '__main__',\n",
    " '_dh': ['/tmp/tmpasf0yiaq'],\n",
    " '_i': 'vars',\n",
    " '_i1': 'vars',\n",
    " '_i2': 'vars()',\n",
    " '_ih': ['', 'vars', 'vars()'],\n",
    " '_ii': '',\n",
    " '_iii': '',\n",
    " '_oh': {1: <function vars>},\n",
    " '_sh': <module 'IPython.core.shadowns' from '/var/lib/python/site-packages/IPython/core/shadowns.py'>,\n",
    " 'exit': <IPython.core.autocall.ExitAutocall at 0x7f4e362849b0>,\n",
    " 'get_ipython': <bound method InteractiveShell.get_ipython of <IPython.core.interactiveshell.InteractiveShell object at 0x7f4e36d31c18>>,\n",
    " 'input_data': array([3, 5]),\n",
    " 'np': <module 'numpy' from '/usr/local/lib/python3.5/dist-packages/numpy/__init__.py'>,\n",
    " 'quit': <IPython.core.autocall.ExitAutocall at 0x7f4e362849b0>,\n",
    " 'weights': {'node_0': array([2, 4]),\n",
    "  'node_1': array([ 4, -5]),\n",
    "  'output': arr"
   ]
  },
  {
   "cell_type": "code",
   "execution_count": null,
   "metadata": {
    "collapsed": true
   },
   "outputs": [],
   "source": [
    "# Calculate node 0 value: node_0_value\n",
    "node_0_value = (input_data * weights['node_0']).sum()\n",
    "\n",
    "# Calculate node 1 value: node_1_value\n",
    "node_1_value = (input_data * weights['node_1']).sum()\n",
    "\n",
    "# Put node values into array: hidden_layer_outputs\n",
    "hidden_layer_outputs = np.array([node_0_value, node_1_value])\n",
    "\n",
    "# Calculate output: output\n",
    "output = (hidden_layer_outputs*weights['output']).sum()\n",
    "\n",
    "# Print output\n",
    "print(output)"
   ]
  },
  {
   "cell_type": "markdown",
   "metadata": {},
   "source": [
    "**The Rectified Linear Activation Function**\n",
    "\n",
    "As Dan explained to you in the video, an \"activation function\" is a function applied at each node. It converts the node's input into some output.\n",
    "\n",
    "The rectified linear activation function (called *ReLU*) has been shown to lead to very high-performance networks. This function takes a single number as an input, returning 0 if the input is negative, and the input if the input is positive.\n",
    "\n",
    "Here are some examples:\n",
    "\n",
    "**relu(3) = 3**\n",
    "\n",
    "**relu(-3) = 0**"
   ]
  },
  {
   "cell_type": "markdown",
   "metadata": {},
   "source": [
    "{'In': ['', 'vars()'],\n",
    " 'Out': {},\n",
    " '_': '',\n",
    " '__': '',\n",
    " '___': '',\n",
    " '__builtin__': <module 'builtins' (built-in)>,\n",
    " '__builtins__': <module 'builtins' (built-in)>,\n",
    " '__name__': '__main__',\n",
    " '_dh': ['/tmp/tmpan05jhlp'],\n",
    " '_i': '',\n",
    " '_i1': 'vars()',\n",
    " '_ih': ['', 'vars()'],\n",
    " '_ii': '',\n",
    " '_iii': '',\n",
    " '_oh': {},\n",
    " '_sh': <module 'IPython.core.shadowns' from '/var/lib/python/site-packages/IPython/core/shadowns.py'>,\n",
    " 'exit': <IPython.core.autocall.ExitAutocall at 0x7f4e45318400>,\n",
    " 'get_ipython': <bound method InteractiveShell.get_ipython of <IPython.core.interactiveshell.InteractiveShell object at 0x7f4e36d31c18>>,\n",
    " 'input_data': array([3, 5]),\n",
    " 'np': <module 'numpy' from '/usr/local/lib/python3.5/dist-packages/numpy/__init__.py'>,\n",
    " 'quit': <IPython.core.autocall.ExitAutocall at 0x7f4e45318400>,\n",
    " 'weights': {'node_0': array([2, 4]),\n",
    "  'node_1': array([ 4, -5]),\n",
    "  'output': arr"
   ]
  },
  {
   "cell_type": "code",
   "execution_count": null,
   "metadata": {
    "collapsed": false
   },
   "outputs": [],
   "source": [
    "def relu(input):\n",
    "    '''Define your relu activation function here'''\n",
    "    # Calculate the value for the output of the relu function: output\n",
    "    output = max(input, 0)\n",
    "    \n",
    "    # Return the value just calculated\n",
    "    return(output)\n",
    "\n",
    "# Calculate node 0 value: node_0_output\n",
    "node_0_input = (input_data * weights['node_0']).sum()\n",
    "node_0_output = relu(node_0_input)\n",
    "\n",
    "# Calculate node 1 value: node_1_output\n",
    "node_1_input = (input_data * weights['node_1']).sum()\n",
    "node_1_output = relu(node_1_input)\n",
    "\n",
    "# Put node values into array: hidden_layer_outputs\n",
    "hidden_layer_outputs = np.array([node_0_output, node_1_output])\n",
    "\n",
    "# Calculate model output (do not apply relu)\n",
    "model_output = (hidden_layer_outputs * weights['output']).sum()\n",
    "\n",
    "# Print model output\n",
    "print(model_output)"
   ]
  },
  {
   "cell_type": "markdown",
   "metadata": {},
   "source": [
    "**Applying the network to many observations/rows of data**\n",
    "You'll now define a function called `predict_with_network()` which will generate predictions for multiple data observations, which are pre-loaded as `input_data`. As before, `weights` are also pre-loaded. In addition, the `relu()` function you defined in the previous exercise has been pre-loaded."
   ]
  },
  {
   "cell_type": "markdown",
   "metadata": {},
   "source": [
    "{'In': ['', 'vars()'],\n",
    " 'Out': {},\n",
    " '_': '',\n",
    " '__': '',\n",
    " '___': '',\n",
    " '__builtin__': <module 'builtins' (built-in)>,\n",
    " '__builtins__': <module 'builtins' (built-in)>,\n",
    " '__name__': '__main__',\n",
    " '_dh': ['/tmp/tmpe3w_1dj1'],\n",
    " '_i': '',\n",
    " '_i1': 'vars()',\n",
    " '_ih': ['', 'vars()'],\n",
    " '_ii': '',\n",
    " '_iii': '',\n",
    " '_oh': {},\n",
    " '_sh': <module 'IPython.core.shadowns' from '/var/lib/python/site-packages/IPython/core/shadowns.py'>,\n",
    " 'exit': <IPython.core.autocall.ExitAutocall at 0x7f4e36284be0>,\n",
    " 'get_ipython': <bound method InteractiveShell.get_ipython of <IPython.core.interactiveshell.InteractiveShell object at 0x7f4e36d31c18>>,\n",
    " 'input_data': [array([3, 5]), array([ 1, -1]), array([0, 0]), array([8, 4])],\n",
    " 'np': <module 'numpy' from '/usr/local/lib/python3.5/dist-packages/numpy/__init__.py'>,\n",
    " 'quit': <IPython.core.autocall.ExitAutocall at 0x7f4e36284be0>,\n",
    " 'relu': <function __main__.relu>,\n",
    " 'weights': {'node_0': array([2, 4]),\n",
    "  'node_1': array([ 4, -5]),\n",
    "  'output': arr"
   ]
  },
  {
   "cell_type": "code",
   "execution_count": null,
   "metadata": {
    "collapsed": true
   },
   "outputs": [],
   "source": [
    "    # Define predict_with_network()\n",
    "def predict_with_network(input_data_row, weights):\n",
    "\n",
    "    # Calculate node 0 value\n",
    "    node_0_input = (input_data_row * weights['node_0']).sum()\n",
    "    node_0_output = relu(node_0_input)\n",
    "\n",
    "    # Calculate node 1 value\n",
    "    node_1_input = (input_data_row * weights['node_1']).sum()\n",
    "    node_1_output = relu(node_1_input)\n",
    "\n",
    "    # Put node values into array: hidden_layer_outputs\n",
    "    hidden_layer_outputs = np.array([node_0_output, node_1_output])\n",
    "    \n",
    "    # Calculate model output\n",
    "    input_to_final_layer = (hidden_layer_outputs * weights['output']).sum()\n",
    "    model_output = relu(input_to_final_layer)\n",
    "    \n",
    "    # Return model output\n",
    "    return(model_output)\n",
    "\n",
    "\n",
    "# Create empty list to store prediction results\n",
    "results = []\n",
    "for input_data_row in input_data:\n",
    "    # Append prediction to results\n",
    "    results.append(predict_with_network(input_data_row, weights))\n",
    "\n",
    "# Print results\n",
    "print(results)"
   ]
  },
  {
   "cell_type": "markdown",
   "metadata": {},
   "source": [
    "**Forward propagation in a deeper network**\n",
    "\n",
    "You now have a model with 2 hidden layers. The values for an input data point are shown inside the input nodes. The weights are shown on the edges/lines. What prediction would this model make on this data point?\n",
    "\n",
    "Assume the activation function at each node is the *identi*ty function*. That is, each node's output will be the same as its input. So the value of the bottom node in the first hidden layer is `-1`, and not `0`, as it would be if the ReLU activation function was used.\n",
    "\n",
    "![Ch1Ex9](./img/ch1ex9.png \"Ch1Ex9\")"
   ]
  },
  {
   "cell_type": "markdown",
   "metadata": {},
   "source": [
    "**Multi-layer neural networks**\n",
    "\n",
    "In this exercise, you'll write code to do forward propagation for a neural network with 2 hidden layers. Each hidden layer has two nodes. The input data has been preloaded as `input_data`. The nodes in the first hidden layer are called `node_0_0` and `node_0_1`. Their weights are pre-loaded as `weights['node_0_0']` and `weights['node_0_1']` respectively.\n",
    "\n",
    "The nodes in the second hidden layer are called `node_1_0` and `node_1_1`. Their weights are pre-loaded as `weights['node_1_0']` and `weights['node_1_1']` respectively.\n",
    "\n",
    "We then create a model output from the hidden nodes using weights pre-loaded as `weights['output']`.\n",
    "\n",
    "![Ch1Ex10](./img/ch1ex10.png \"Ch1Ex10\")"
   ]
  },
  {
   "cell_type": "markdown",
   "metadata": {},
   "source": [
    "{'In': ['', \"vars()\\n''\", 'vars()'],\n",
    " 'Out': {1: ''},\n",
    " '_': '',\n",
    " '_1': '',\n",
    " '__': '',\n",
    " '___': '',\n",
    " '__builtin__': <module 'builtins' (built-in)>,\n",
    " '__builtins__': <module 'builtins' (built-in)>,\n",
    " '__name__': '__main__',\n",
    " '_dh': ['/tmp/tmpjccse6ef'],\n",
    " '_i': \"vars()\\n''\",\n",
    " '_i1': \"vars()\\n''\",\n",
    " '_i2': 'vars()',\n",
    " '_ih': ['', \"vars()\\n''\", 'vars()'],\n",
    " '_ii': '',\n",
    " '_iii': '',\n",
    " '_oh': {1: ''},\n",
    " '_sh': <module 'IPython.core.shadowns' from '/var/lib/python/site-packages/IPython/core/shadowns.py'>,\n",
    " 'exit': <IPython.core.autocall.ExitAutocall at 0x7f4e453183c8>,\n",
    " 'get_ipython': <bound method InteractiveShell.get_ipython of <IPython.core.interactiveshell.InteractiveShell object at 0x7f4e36d31c18>>,\n",
    " 'input_data': array([3, 5]),\n",
    " 'np': <module 'numpy' from '/usr/local/lib/python3.5/dist-packages/numpy/__init__.py'>,\n",
    " 'quit': <IPython.core.autocall.ExitAutocall at 0x7f4e453183c8>,\n",
    " 'relu': <function __main__.relu>,\n",
    " 'weights': {'node_0_0': array([2, 4]),\n",
    "  'node_0_1': array([ 4, -5]),\n",
    "  'node_1_0': array([-1,  1]),\n",
    "  'node_1_1': array([2, 2]),\n",
    "  'output': ar"
   ]
  },
  {
   "cell_type": "code",
   "execution_count": null,
   "metadata": {
    "collapsed": true
   },
   "outputs": [],
   "source": [
    "def predict_with_network(input_data):\n",
    "    # Calculate node 0 in the first hidden layer\n",
    "    node_0_0_input = (input_data * weights['node_0_0']).sum()\n",
    "    node_0_0_output = relu(node_0_0_input)\n",
    "\n",
    "    # Calculate node 1 in the first hidden layer\n",
    "    node_0_1_input = (input_data * weights['node_0_1']).sum()\n",
    "    node_0_1_output = relu(node_0_1_input)\n",
    "\n",
    "    # Put node values into array: hidden_0_outputs\n",
    "    hidden_0_outputs = np.array([node_0_0_output, node_0_1_output])\n",
    "    \n",
    "    # Calculate node 0 in the second hidden layer\n",
    "    node_1_0_input = (hidden_0_outputs * weights['node_1_0']).sum()\n",
    "    node_1_0_output = relu(node_1_0_input)\n",
    "\n",
    "    # Calculate node 1 in the second hidden layer\n",
    "    node_1_1_input = (hidden_0_outputs * weights['node_1_1']).sum()\n",
    "    node_1_1_output = relu(node_1_1_input)\n",
    "\n",
    "    # Put node values into array: hidden_1_outputs\n",
    "    hidden_1_outputs = np.array([node_1_0_output, node_1_1_output])\n",
    "\n",
    "    # Calculate model output: model_output\n",
    "    model_output = (hidden_1_outputs * weights['output']).sum()\n",
    "    \n",
    "    # Return model_output\n",
    "    return(model_output)\n",
    "\n",
    "output = predict_with_network(input_data)\n",
    "print(output)"
   ]
  }
 ],
 "metadata": {
  "kernelspec": {
   "display_name": "Python [python36-with-r]",
   "language": "python",
   "name": "Python [python36-with-r]"
  },
  "language_info": {
   "codemirror_mode": {
    "name": "ipython",
    "version": 3
   },
   "file_extension": ".py",
   "mimetype": "text/x-python",
   "name": "python",
   "nbconvert_exporter": "python",
   "pygments_lexer": "ipython3",
   "version": "3.6.1"
  }
 },
 "nbformat": 4,
 "nbformat_minor": 2
}
